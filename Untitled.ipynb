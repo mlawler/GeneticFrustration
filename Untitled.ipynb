{
 "cells": [
  {
   "cell_type": "markdown",
   "metadata": {},
   "source": [
    "# Test OpenCL"
   ]
  },
  {
   "cell_type": "markdown",
   "metadata": {},
   "source": [
    "Set the current directory"
   ]
  },
  {
   "cell_type": "code",
   "execution_count": 1,
   "metadata": {
    "collapsed": false
   },
   "outputs": [
    {
     "name": "stdout",
     "output_type": "stream",
     "text": [
      "/Users/mlawler/.julia/v0.4/OpenCL/test\n"
     ]
    }
   ],
   "source": [
    ";cd ~/.julia/v0.4/OpenCL/test"
   ]
  },
  {
   "cell_type": "code",
   "execution_count": 2,
   "metadata": {
    "collapsed": false
   },
   "outputs": [
    {
     "data": {
      "text/plain": [
       "3-element Array{ByteString,1}:\n",
       " \"/Applications/Julia-0.4.2.app/Contents/Resources/julia/local/share/julia/site/v0.4\"\n",
       " \"/Applications/Julia-0.4.2.app/Contents/Resources/julia/share/julia/site/v0.4\"      \n",
       " \".\"                                                                                 "
      ]
     },
     "execution_count": 2,
     "metadata": {},
     "output_type": "execute_result"
    }
   ],
   "source": [
    "push!(LOAD_PATH,\".\")"
   ]
  },
  {
   "cell_type": "code",
   "execution_count": 3,
   "metadata": {
    "collapsed": false
   },
   "outputs": [
    {
     "name": "stdout",
     "output_type": "stream",
     "text": [
      "OpenCL.Platform\n",
      "  > Platform Info\n",
      "  > Platform Equality\n",
      "13 facts verified.\n",
      "OpenCL.Context\n",
      "  > OpenCL.Context constructor\n",
      "  > OpenCL.Context platform properties\n",
      "  > OpenCL.Context create_some_context\n",
      "  > OpenCL.Context parsing\n",
      "25 facts verified.\n",
      "OpenCL.Device\n",
      "  > Device Type\n",
      "  > Device Equality\n",
      "  > Device Info\n",
      "143 facts verified.\n",
      "OpenCL.CmdQueue\n"
     ]
    },
    {
     "name": "stderr",
     "output_type": "stream",
     "text": [
      "WARNING: Platform Apple does not seem to suport out of order queues: \n",
      "OpenCL Error: OpenCL.Context error: [CL_INVALID_VALUE] : OpenCL Error : clCreateCommandQueue failed: Device failed to create queue (cld returned: -35).\n"
     ]
    },
    {
     "name": "stdout",
     "output_type": "stream",
     "text": [
      "  > OpenCL.CmdQueue constructor\n",
      "  > OpenCL.CmdQueue info\n",
      "43 facts verified.\n",
      "OpenCL.Macros\n",
      "  > OpenCL.Macros version platform\n",
      "  > OpenCL.Macros version device\n",
      "9 facts verified.\n",
      "OpenCL.Event\n",
      "  > OpenCL.Event status\n",
      "  > OpenCL.Event wait\n",
      "  > OpenCL.Event callback\n",
      "Test Callback\n",
      "Test Callback\n",
      "32 facts verified.\n",
      "OpenCL.Program\n",
      "  > OpenCL.Program source constructor\n",
      "  > OpenCL.Program info\n",
      "  > OpenCL.Program build\n",
      "  > OpenCL.Program source code\n",
      "  > OpenCL.Program binaries\n",
      "44 facts verified.\n",
      "OpenCL.Kernel\n",
      "  > OpenCL.Kernel constructor\n",
      "  > OpenCL.Kernel info\n",
      "  > OpenCL.Kernel mem/workgroup size\n",
      "  > OpenCL.Kernel set_arg!/set_args!\n",
      "  > OpenCL.Kernel enqueue_kernel\n",
      "74 facts verified.\n"
     ]
    },
    {
     "name": "stderr",
     "output_type": "stream",
     "text": [
      "INFO: ======================================================================\n",
      "                              Running Behavior Tests\n",
      "      ======================================================================\n"
     ]
    },
    {
     "name": "stdout",
     "output_type": "stream",
     "text": [
      "OpenCL Hello World Test\n",
      "2 facts verified.\n",
      "OpenCL Low Level Api Test\n",
      "2 facts verified.\n",
      "OpenCL Struct Buffer Test\n",
      "2 facts verified.\n",
      "OpenCL.Memory\n",
      "  > OpenCL.CLMemObject context\n",
      "  > OpenCL.CLMemObject properties\n",
      "7 facts verified.\n",
      "OpenCL.Buffer\n",
      "  > OpenCL.Buffer constructors\n",
      "  > OpenCL.Buffer constructors symbols\n",
      "  > OpenCL.Buffer fill\n",
      "  > OpenCL.Buffer write!\n",
      "  > OpenCL.Buffer empty_like\n",
      "  > OpenCL.Buffer copy!\n",
      "  > OpenCL.Buffer map/unmap\n",
      "504 facts verified.\n"
     ]
    },
    {
     "name": "stderr",
     "output_type": "stream",
     "text": [
      "WARNING: requiring \"runtests\" in module \"Main\" did not define a corresponding module.\n"
     ]
    }
   ],
   "source": [
    "using runtests"
   ]
  },
  {
   "cell_type": "code",
   "execution_count": 4,
   "metadata": {
    "collapsed": false
   },
   "outputs": [
    {
     "name": "stderr",
     "output_type": "stream",
     "text": [
      "INFO: Success!\n"
     ]
    }
   ],
   "source": [
    "import OpenCL\n",
    "const cl = OpenCL\n",
    "\n",
    "const sum_kernel = \"\n",
    "   __kernel void sum(__global const float *a,\n",
    "                     __global const float *b,\n",
    "                     __global float *c)\n",
    "    {\n",
    "      int gid = get_global_id(0);\n",
    "      c[gid] = a[gid] + b[gid];\n",
    "    }\n",
    "\"\n",
    "a = rand(Float32, 50_000)\n",
    "b = rand(Float32, 50_000)\n",
    "\n",
    "device, ctx, queue = cl.create_compute_context()\n",
    "\n",
    "a_buff = cl.Buffer(Float32, ctx, (:r, :copy), hostbuf=a)\n",
    "b_buff = cl.Buffer(Float32, ctx, (:r, :copy), hostbuf=b)\n",
    "c_buff = cl.Buffer(Float32, ctx, :w, length(a))\n",
    "\n",
    "p = cl.Program(ctx, source=sum_kernel) |> cl.build!\n",
    "k = cl.Kernel(p, \"sum\")\n",
    "\n",
    "cl.call(queue, k, size(a), nothing, a_buff, b_buff, c_buff)\n",
    "\n",
    "r = cl.read(queue, c_buff)\n",
    "\n",
    "if isapprox(norm(r - (a+b)), zero(Float32))\n",
    "    info(\"Success!\")\n",
    "else\n",
    "    error(\"Norm should be 0.0f\")\n",
    "end"
   ]
  },
  {
   "cell_type": "code",
   "execution_count": null,
   "metadata": {
    "collapsed": true
   },
   "outputs": [],
   "source": []
  }
 ],
 "metadata": {
  "kernelspec": {
   "display_name": "Julia 0.4.2",
   "language": "julia",
   "name": "julia-0.4"
  },
  "language_info": {
   "file_extension": ".jl",
   "mimetype": "application/julia",
   "name": "julia",
   "version": "0.4.2"
  }
 },
 "nbformat": 4,
 "nbformat_minor": 0
}
